{
  "nbformat": 4,
  "nbformat_minor": 0,
  "metadata": {
    "colab": {
      "provenance": []
    },
    "kernelspec": {
      "name": "python3",
      "display_name": "Python 3"
    },
    "language_info": {
      "name": "python"
    }
  },
  "cells": [
    {
      "cell_type": "markdown",
      "source": [
        "Q1. How do you comment code in Python? What are the different types of comments?"
      ],
      "metadata": {
        "id": "hodUn8ZrFGUX"
      }
    },
    {
      "cell_type": "code",
      "source": [
        "# This is how we can do comment in python\n",
        "#for i in range(5):\n",
        "  #print(i)\n"
      ],
      "metadata": {
        "id": "rVPmq8GfFJP9"
      },
      "execution_count": null,
      "outputs": []
    },
    {
      "cell_type": "code",
      "source": [
        "# Single Line Comment and\n",
        "#Ex:\n",
        "\n",
        "# print(\"My Name is Sourav\")\n",
        "\n",
        "# Multiline Comment\n",
        "# Press Ctrl + /\n",
        "\n",
        "# print(\"Line 1\")\n",
        "# print(\"Line 2\")\n",
        "# print(\"Line 3\")\n",
        "# print(\"Line 4\")\n",
        "\n",
        "# ---OR---\n",
        "\n",
        "\"\"\"\n",
        "Line 1\n",
        "Line 2\n",
        "Line 3\n",
        "\"\"\"\n"
      ],
      "metadata": {
        "id": "3eBYD0JaFtKW"
      },
      "execution_count": null,
      "outputs": []
    },
    {
      "cell_type": "markdown",
      "source": [
        "Q2. What are variables in Python? How do you declare and assign values to variables?"
      ],
      "metadata": {
        "id": "o_sJkY-LLjxO"
      }
    },
    {
      "cell_type": "code",
      "source": [
        "# I am going to explain this using different types of data types\n",
        "\n",
        "#Integer\n",
        "a= 5\n",
        "type(a)\n"
      ],
      "metadata": {
        "colab": {
          "base_uri": "https://localhost:8080/"
        },
        "id": "5jIFf-PELmAt",
        "outputId": "f0e610df-de01-42b1-972d-24353c680a93"
      },
      "execution_count": null,
      "outputs": [
        {
          "output_type": "execute_result",
          "data": {
            "text/plain": [
              "str"
            ]
          },
          "metadata": {},
          "execution_count": 2
        }
      ]
    },
    {
      "cell_type": "code",
      "source": [
        "#String\n",
        "b='sourav'\n",
        "type(b)"
      ],
      "metadata": {
        "colab": {
          "base_uri": "https://localhost:8080/"
        },
        "id": "DEPKa-xFL5lL",
        "outputId": "229e3199-a093-4315-8eac-544ac26e17ad"
      },
      "execution_count": null,
      "outputs": [
        {
          "output_type": "execute_result",
          "data": {
            "text/plain": [
              "str"
            ]
          },
          "metadata": {},
          "execution_count": 3
        }
      ]
    },
    {
      "cell_type": "code",
      "source": [
        "#Boolean\n",
        "c=True\n",
        "type(c)"
      ],
      "metadata": {
        "colab": {
          "base_uri": "https://localhost:8080/"
        },
        "id": "o-vMke88MGST",
        "outputId": "ebd85f32-2b15-4113-ed51-162d8e89bfd2"
      },
      "execution_count": null,
      "outputs": [
        {
          "output_type": "execute_result",
          "data": {
            "text/plain": [
              "bool"
            ]
          },
          "metadata": {},
          "execution_count": 4
        }
      ]
    },
    {
      "cell_type": "code",
      "source": [
        "#Float\n",
        "d=33.56\n",
        "type(d)"
      ],
      "metadata": {
        "colab": {
          "base_uri": "https://localhost:8080/"
        },
        "id": "xMbpEkzbMNyf",
        "outputId": "31074746-6768-48c4-e692-eef6384e9777"
      },
      "execution_count": null,
      "outputs": [
        {
          "output_type": "execute_result",
          "data": {
            "text/plain": [
              "float"
            ]
          },
          "metadata": {},
          "execution_count": 5
        }
      ]
    },
    {
      "cell_type": "code",
      "source": [
        "#List\n",
        "e=[1,2,'sourav']\n",
        "type(e)"
      ],
      "metadata": {
        "colab": {
          "base_uri": "https://localhost:8080/"
        },
        "id": "JtDh811PMV_0",
        "outputId": "18ca6151-a06c-490c-f2d2-fd569e9b094a"
      },
      "execution_count": null,
      "outputs": [
        {
          "output_type": "execute_result",
          "data": {
            "text/plain": [
              "list"
            ]
          },
          "metadata": {},
          "execution_count": 6
        }
      ]
    },
    {
      "cell_type": "code",
      "source": [
        "#Tuple\n",
        "f=(1,2,3)\n",
        "type(f)"
      ],
      "metadata": {
        "colab": {
          "base_uri": "https://localhost:8080/"
        },
        "id": "MSUmeoIKMfyr",
        "outputId": "187adc78-50f5-481a-cfe2-898e39e3125d"
      },
      "execution_count": null,
      "outputs": [
        {
          "output_type": "execute_result",
          "data": {
            "text/plain": [
              "tuple"
            ]
          },
          "metadata": {},
          "execution_count": 8
        }
      ]
    },
    {
      "cell_type": "code",
      "source": [
        "#Set\n",
        "g={2,3,3,4}\n",
        "type(g)"
      ],
      "metadata": {
        "colab": {
          "base_uri": "https://localhost:8080/"
        },
        "id": "qMjQy5FzMnr1",
        "outputId": "7e594ef0-648e-45a5-acde-e401fc45a23a"
      },
      "execution_count": null,
      "outputs": [
        {
          "output_type": "execute_result",
          "data": {
            "text/plain": [
              "set"
            ]
          },
          "metadata": {},
          "execution_count": 9
        }
      ]
    },
    {
      "cell_type": "code",
      "source": [
        "#Dictionary\n",
        "h={'Name':\"Sourav\",'Email':'adak.sourav1995@gmail,com'}\n",
        "type(h)"
      ],
      "metadata": {
        "colab": {
          "base_uri": "https://localhost:8080/"
        },
        "id": "PqODMmwTMyRe",
        "outputId": "e054ba1a-374a-441e-f47c-a251d2fc839e"
      },
      "execution_count": null,
      "outputs": [
        {
          "output_type": "execute_result",
          "data": {
            "text/plain": [
              "dict"
            ]
          },
          "metadata": {},
          "execution_count": 11
        }
      ]
    },
    {
      "cell_type": "markdown",
      "source": [
        "\n",
        "Q3. How do you convert one data type to another in Python?"
      ],
      "metadata": {
        "id": "gdOQ48IKNSw2"
      }
    },
    {
      "cell_type": "code",
      "source": [
        "a=3\n",
        "b='sourav'\n",
        "c=str(a)+b\n",
        "print(c)"
      ],
      "metadata": {
        "colab": {
          "base_uri": "https://localhost:8080/"
        },
        "id": "3ihyNyFKNVdV",
        "outputId": "bd262166-404c-41e4-e9e7-8e67d0b3e5cd"
      },
      "execution_count": null,
      "outputs": [
        {
          "output_type": "stream",
          "name": "stdout",
          "text": [
            "3sourav\n"
          ]
        }
      ]
    },
    {
      "cell_type": "markdown",
      "source": [
        "Q4. How do you write and execute a Python script from the command line?\n",
        "\n",
        "Ans : open a command line --> type  python followed by the path to the  script file like this: python first_script.py Hello World! Then you hit the ENTER button"
      ],
      "metadata": {
        "id": "BX2AHg2UOs5s"
      }
    },
    {
      "cell_type": "markdown",
      "source": [
        "Q5. Given a list my_list = [1, 2, 3, 4, 5], write the code to slice the list and obtain the sub-list [2, 3]."
      ],
      "metadata": {
        "id": "GaspZcJA9heR"
      }
    },
    {
      "cell_type": "code",
      "source": [
        "my_list=[1,2,3,4,5]\n",
        "my_list[1:3]"
      ],
      "metadata": {
        "colab": {
          "base_uri": "https://localhost:8080/"
        },
        "id": "eM-tBHlq7O5N",
        "outputId": "741fb39c-8913-4a85-ca59-a899f448abc8"
      },
      "execution_count": null,
      "outputs": [
        {
          "output_type": "execute_result",
          "data": {
            "text/plain": [
              "[2, 3]"
            ]
          },
          "metadata": {},
          "execution_count": 1
        }
      ]
    },
    {
      "cell_type": "markdown",
      "source": [
        "Q6. What is a complex number in mathematics, and how is it represented in Python?"
      ],
      "metadata": {
        "id": "fCm8Arl499GJ"
      }
    },
    {
      "cell_type": "code",
      "source": [
        "a=5 + 2j\n",
        "print(\"Type is :\",type(a))\n",
        "print(\"Real Part\",a.real)\n",
        "print(\"imaginary part\", a.imag)\n",
        "\n"
      ],
      "metadata": {
        "colab": {
          "base_uri": "https://localhost:8080/"
        },
        "id": "ZVCW2K08980B",
        "outputId": "081a7511-b977-4345-9385-ee7804126fab"
      },
      "execution_count": null,
      "outputs": [
        {
          "output_type": "stream",
          "name": "stdout",
          "text": [
            "Type is : <class 'complex'>\n",
            "Real Part 5.0\n",
            "imaginary part 2.0\n"
          ]
        }
      ]
    },
    {
      "cell_type": "markdown",
      "source": [
        "Q7. What is the correct way to declare a variable named age and assign the value 25 to it?"
      ],
      "metadata": {
        "id": "_SwtPkJ0BXHJ"
      }
    },
    {
      "cell_type": "code",
      "source": [
        "age=25\n",
        "print(age)\n",
        "print(type(age))"
      ],
      "metadata": {
        "colab": {
          "base_uri": "https://localhost:8080/"
        },
        "id": "w_KiDhc4-W4k",
        "outputId": "6c5b3918-2e58-48da-8264-a89bae8c98cd"
      },
      "execution_count": null,
      "outputs": [
        {
          "output_type": "stream",
          "name": "stdout",
          "text": [
            "25\n",
            "<class 'int'>\n"
          ]
        }
      ]
    },
    {
      "cell_type": "markdown",
      "source": [
        "Q8. Declare a variable named price and assign the value 9.99 to it. What data type does this variable\n",
        "belong to?"
      ],
      "metadata": {
        "id": "7GF9dS4jB-Nq"
      }
    },
    {
      "cell_type": "code",
      "source": [
        "price=9.99\n",
        "print(price)\n",
        "print(type(price))"
      ],
      "metadata": {
        "colab": {
          "base_uri": "https://localhost:8080/"
        },
        "id": "ZeAvBX3bCFVa",
        "outputId": "ca6797da-c176-4f90-c79a-c98e6ccc1e0e"
      },
      "execution_count": null,
      "outputs": [
        {
          "output_type": "stream",
          "name": "stdout",
          "text": [
            "9.99\n",
            "<class 'float'>\n"
          ]
        }
      ]
    },
    {
      "cell_type": "markdown",
      "source": [
        "Q9. Create a variable named name and assign your full name to it as a string. How would you print the\n",
        "value of this variable?"
      ],
      "metadata": {
        "id": "eX3OKPABCOYB"
      }
    },
    {
      "cell_type": "code",
      "source": [
        "name= \"Sourav Adak\"\n",
        "print(type(name))\n",
        "print(name)"
      ],
      "metadata": {
        "colab": {
          "base_uri": "https://localhost:8080/"
        },
        "id": "XdEEv5B8CQdq",
        "outputId": "2f898925-fae0-4dc6-8efe-86abc2a8e321"
      },
      "execution_count": null,
      "outputs": [
        {
          "output_type": "stream",
          "name": "stdout",
          "text": [
            "<class 'str'>\n",
            "Sourav Adak\n"
          ]
        }
      ]
    },
    {
      "cell_type": "markdown",
      "source": [
        "Q10. Given the string \"Hello, World!\", extract the substring \"World\"."
      ],
      "metadata": {
        "id": "axH-97RiCfnS"
      }
    },
    {
      "cell_type": "code",
      "source": [
        "str= \"Hello, World!\"\n",
        "str[7:12]"
      ],
      "metadata": {
        "colab": {
          "base_uri": "https://localhost:8080/",
          "height": 35
        },
        "id": "md3a6vQKCh6g",
        "outputId": "4a641399-cacf-4c16-8808-56fe284bdf4b"
      },
      "execution_count": null,
      "outputs": [
        {
          "output_type": "execute_result",
          "data": {
            "text/plain": [
              "'World'"
            ],
            "application/vnd.google.colaboratory.intrinsic+json": {
              "type": "string"
            }
          },
          "metadata": {},
          "execution_count": 22
        }
      ]
    },
    {
      "cell_type": "markdown",
      "source": [
        "Q11. Create a variable named \"is_student\" and assign it a boolean value indicating whether you are\n",
        "currently a student or not."
      ],
      "metadata": {
        "id": "rxzfgLJrDAah"
      }
    },
    {
      "cell_type": "code",
      "source": [
        "is_student = True\n",
        "print(type(is_student))\n",
        "if is_student==True:\n",
        "  print(\"Currently a student\")\n",
        "else:\n",
        "  print(\"Not a student\")\n",
        "\n"
      ],
      "metadata": {
        "colab": {
          "base_uri": "https://localhost:8080/"
        },
        "id": "bMm5kn8MDCkY",
        "outputId": "cc210612-5c80-4a39-92c5-5f6ae9368315"
      },
      "execution_count": null,
      "outputs": [
        {
          "output_type": "stream",
          "name": "stdout",
          "text": [
            "<class 'bool'>\n",
            "Currently a student\n"
          ]
        }
      ]
    }
  ]
}