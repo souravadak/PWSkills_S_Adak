{
 "cells": [
  {
   "cell_type": "markdown",
   "id": "15321d29-39d7-4d88-bbe2-e5e5bbbada7c",
   "metadata": {},
   "source": [
    "Q1. Create one variable containing following type of data:\n",
    "(i) string\n",
    "(ii) list\n",
    "(iii) float\n",
    "(iv) tuple"
   ]
  },
  {
   "cell_type": "code",
   "execution_count": 8,
   "id": "1da04817-8931-49a1-8d6b-89aaf7a9ff31",
   "metadata": {},
   "outputs": [
    {
     "name": "stdout",
     "output_type": "stream",
     "text": [
      "Sourav\n"
     ]
    },
    {
     "data": {
      "text/plain": [
       "str"
      ]
     },
     "execution_count": 8,
     "metadata": {},
     "output_type": "execute_result"
    }
   ],
   "source": [
    "s='Sourav'\n",
    "print(s)\n",
    "type(s)"
   ]
  },
  {
   "cell_type": "code",
   "execution_count": 9,
   "id": "5e0f44b8-5267-4b8c-96b1-c8457a176b65",
   "metadata": {},
   "outputs": [
    {
     "data": {
      "text/plain": [
       "list"
      ]
     },
     "execution_count": 9,
     "metadata": {},
     "output_type": "execute_result"
    }
   ],
   "source": [
    "l=[1,2,3,4]\n",
    "l\n",
    "type(l)"
   ]
  },
  {
   "cell_type": "code",
   "execution_count": 10,
   "id": "d1b83e39-e7d3-4f96-8c96-0d9d8abfee7c",
   "metadata": {},
   "outputs": [
    {
     "name": "stdout",
     "output_type": "stream",
     "text": [
      "22.5\n"
     ]
    },
    {
     "data": {
      "text/plain": [
       "float"
      ]
     },
     "execution_count": 10,
     "metadata": {},
     "output_type": "execute_result"
    }
   ],
   "source": [
    "f=22.5\n",
    "print(f)\n",
    "type(f)"
   ]
  },
  {
   "cell_type": "code",
   "execution_count": 7,
   "id": "61c0ecc9-0bf4-422b-a004-4418436baf15",
   "metadata": {},
   "outputs": [
    {
     "name": "stdout",
     "output_type": "stream",
     "text": [
      "(3, 4)\n"
     ]
    },
    {
     "data": {
      "text/plain": [
       "tuple"
      ]
     },
     "execution_count": 7,
     "metadata": {},
     "output_type": "execute_result"
    }
   ],
   "source": [
    "t=(3,4)\n",
    "print(t)\n",
    "type(t)"
   ]
  },
  {
   "cell_type": "markdown",
   "id": "30735237-b2ec-44ca-8e9a-592d8bc4c927",
   "metadata": {},
   "source": [
    "Q2. Given are some following variables containing data:\n",
    "(i) var1 = ‘ ‘\n",
    "(ii) var2 = ‘[ DS , ML , Python]’\n",
    "(iii) var3 = [ ‘DS’ , ’ML’ , ‘Python’ ]\n",
    "(iv) var4 = 1.\n",
    "What will be the data type of the above given variable."
   ]
  },
  {
   "cell_type": "code",
   "execution_count": 12,
   "id": "1fc7decb-6d00-4bcf-a00c-f4dc9cdd5f03",
   "metadata": {},
   "outputs": [
    {
     "data": {
      "text/plain": [
       "str"
      ]
     },
     "execution_count": 12,
     "metadata": {},
     "output_type": "execute_result"
    }
   ],
   "source": [
    "var1=''\n",
    "type(var1)"
   ]
  },
  {
   "cell_type": "code",
   "execution_count": 13,
   "id": "cbedfbc8-de41-4048-a9ba-ad6638b02f0a",
   "metadata": {},
   "outputs": [
    {
     "data": {
      "text/plain": [
       "str"
      ]
     },
     "execution_count": 13,
     "metadata": {},
     "output_type": "execute_result"
    }
   ],
   "source": [
    "var2='[ DS , ML , Python]'\n",
    "type(var2)"
   ]
  },
  {
   "cell_type": "code",
   "execution_count": 15,
   "id": "104b78c7-fa7c-4987-8405-6f0f43769881",
   "metadata": {},
   "outputs": [
    {
     "data": {
      "text/plain": [
       "list"
      ]
     },
     "execution_count": 15,
     "metadata": {},
     "output_type": "execute_result"
    }
   ],
   "source": [
    "var3 = [ 'DS' , 'ML' , 'Python' ]\n",
    "type(var3)"
   ]
  },
  {
   "cell_type": "code",
   "execution_count": 16,
   "id": "f6aa426d-98f0-4cb0-94d8-5e0aa8b194fc",
   "metadata": {},
   "outputs": [
    {
     "data": {
      "text/plain": [
       "float"
      ]
     },
     "execution_count": 16,
     "metadata": {},
     "output_type": "execute_result"
    }
   ],
   "source": [
    "var4 = 1.\n",
    "type(var4)"
   ]
  },
  {
   "cell_type": "markdown",
   "id": "e5567674-d2a6-47d3-87d9-5e1faada02e8",
   "metadata": {},
   "source": [
    "Q3. Explain the use of the following operators using an example:\n",
    "(i) /\n",
    "(ii) %\n",
    "(iii) //\n",
    "(iv) **"
   ]
  },
  {
   "cell_type": "code",
   "execution_count": 18,
   "id": "142f484f-f9e9-4c95-8025-662af5e4364f",
   "metadata": {},
   "outputs": [
    {
     "name": "stdout",
     "output_type": "stream",
     "text": [
      "3.5\n"
     ]
    }
   ],
   "source": [
    "#This will simply show the result after division operation\n",
    "a=7/2\n",
    "print(a)"
   ]
  },
  {
   "cell_type": "code",
   "execution_count": 19,
   "id": "c4cf22cc-d059-49b5-b0f1-f8b1c3ddf7c3",
   "metadata": {},
   "outputs": [
    {
     "name": "stdout",
     "output_type": "stream",
     "text": [
      "2\n"
     ]
    }
   ],
   "source": [
    "#This will show the reminder after division operation \n",
    "a=17%3\n",
    "print(a)"
   ]
  },
  {
   "cell_type": "code",
   "execution_count": 22,
   "id": "cdf3cb2d-c5d3-407c-889f-df8c7cdabf10",
   "metadata": {},
   "outputs": [
    {
     "name": "stdout",
     "output_type": "stream",
     "text": [
      "5\n"
     ]
    },
    {
     "data": {
      "text/plain": [
       "int"
      ]
     },
     "execution_count": 22,
     "metadata": {},
     "output_type": "execute_result"
    }
   ],
   "source": [
    "#This will show only integer value after divison operation\n",
    "a=17//3\n",
    "print(a)\n",
    "type(a)"
   ]
  },
  {
   "cell_type": "code",
   "execution_count": 23,
   "id": "2d4523a7-86ae-4873-8d33-8683d3e1df5a",
   "metadata": {},
   "outputs": [
    {
     "name": "stdout",
     "output_type": "stream",
     "text": [
      "8\n"
     ]
    }
   ],
   "source": [
    "#Power (2^3)\n",
    "a=2**3\n",
    "print(a)"
   ]
  },
  {
   "cell_type": "markdown",
   "id": "74d6390f-7979-43f6-ac3c-d4abfdb6b318",
   "metadata": {},
   "source": [
    "Q4. Create a list of length 10 of your choice containing multiple types of data. Using for loop print the\n",
    "element and its data type."
   ]
  },
  {
   "cell_type": "code",
   "execution_count": 26,
   "id": "5e181d9f-7e27-4be4-bea0-c0350f47fddf",
   "metadata": {},
   "outputs": [
    {
     "name": "stdout",
     "output_type": "stream",
     "text": [
      "2\n",
      "3\n",
      "sourav\n",
      "PW\n",
      "3.4\n",
      "(3, 4)\n",
      "9\n",
      "8\n",
      "7\n",
      "10\n"
     ]
    }
   ],
   "source": [
    "l=[2,3,'sourav','PW',3.4,(3,4),9,8,7,10]\n",
    "for i in l: \n",
    "    print(i)"
   ]
  },
  {
   "cell_type": "markdown",
   "id": "eaa83440-5ade-42e0-9038-315259e0d81e",
   "metadata": {},
   "source": [
    "Q5. Using a while loop, verify if the number A is purely divisible by number B and if so then how many\n",
    "times it can be divisible."
   ]
  },
  {
   "cell_type": "code",
   "execution_count": 7,
   "id": "74a7046e-3262-4767-8582-8a6a60a93224",
   "metadata": {},
   "outputs": [
    {
     "name": "stdin",
     "output_type": "stream",
     "text": [
      "Enter A 64\n",
      "Enter B 2\n"
     ]
    },
    {
     "name": "stdout",
     "output_type": "stream",
     "text": [
      "6\n"
     ]
    }
   ],
   "source": [
    "A=int(input('Enter A'))\n",
    "B=int(input('Enter B'))\n",
    "c=0\n",
    "while (A%B==0):\n",
    "    A=A//B\n",
    "    c=c+1\n",
    "print(c)\n",
    "    \n",
    "        "
   ]
  },
  {
   "cell_type": "markdown",
   "id": "d422123c-d219-48a5-8c43-9fed1e2132dd",
   "metadata": {},
   "source": [
    "Q6. Create a list containing 25 int type data. Using for loop and if-else condition print if the element is\n",
    "divisible by 3 or not."
   ]
  },
  {
   "cell_type": "code",
   "execution_count": 1,
   "id": "e273f1a1-b917-4216-a9a8-08785803fc10",
   "metadata": {},
   "outputs": [
    {
     "name": "stdout",
     "output_type": "stream",
     "text": [
      "29 is not divisible by 3\n",
      "95 is not divisible by 3\n",
      "86 is not divisible by 3\n",
      "64 is not divisible by 3\n",
      "92 is not divisible by 3\n",
      "82 is not divisible by 3\n",
      "89 is not divisible by 3\n",
      "74 is not divisible by 3\n",
      "52 is not divisible by 3\n",
      "15 is divisible by 3\n",
      "20 is not divisible by 3\n",
      "65 is not divisible by 3\n",
      "54 is divisible by 3\n",
      "4 is not divisible by 3\n",
      "11 is not divisible by 3\n",
      "65 is not divisible by 3\n",
      "14 is not divisible by 3\n",
      "64 is not divisible by 3\n",
      "91 is not divisible by 3\n",
      "17 is not divisible by 3\n",
      "60 is divisible by 3\n",
      "43 is not divisible by 3\n",
      "20 is not divisible by 3\n",
      "2 is not divisible by 3\n",
      "5 is not divisible by 3\n"
     ]
    }
   ],
   "source": [
    "import random\n",
    "my_list = [random.randint(1, 100) for i in range(25)]\n",
    "for i in my_list:\n",
    "    if(i%3==0):\n",
    "        \n",
    "        print(f\"{i} is divisible by 3\")\n",
    "    else :\n",
    "        print(f\"{i} is not divisible by 3\")\n",
    "\n"
   ]
  },
  {
   "cell_type": "markdown",
   "id": "985aa5c9-aab3-429a-9a06-a73b8a91b2ba",
   "metadata": {},
   "source": [
    "Q7. What do you understand about mutable and immutable data types? Give examples for both showing\n",
    "this property."
   ]
  },
  {
   "cell_type": "markdown",
   "id": "370b1ffb-4082-4945-8fcb-9802a340d1f2",
   "metadata": {},
   "source": [
    "Mutable :\n",
    "    Mutable datatypes are those whose values can be modified after they are created.\n",
    "    \n",
    "Please see the example below:"
   ]
  },
  {
   "cell_type": "code",
   "execution_count": 6,
   "id": "f9ce5d14-a4b9-4b00-8d89-6d170f92323a",
   "metadata": {},
   "outputs": [
    {
     "data": {
      "text/plain": [
       "[1, 5, 3, 4]"
      ]
     },
     "execution_count": 6,
     "metadata": {},
     "output_type": "execute_result"
    }
   ],
   "source": [
    "my_list=[1,2,3]\n",
    "my_list.append(4)\n",
    "my_list[1]=5\n",
    "my_list"
   ]
  },
  {
   "cell_type": "markdown",
   "id": "6fa09b40-655f-4b17-8b3c-b8388de44ed0",
   "metadata": {},
   "source": [
    "Immutable :\n",
    "    Immutable datatypes are those whose values can not be modified after they are created.\n",
    "    \n",
    "Please see the example below:"
   ]
  },
  {
   "cell_type": "code",
   "execution_count": 7,
   "id": "0a01367b-1a05-4839-8206-e185fec8ac4d",
   "metadata": {},
   "outputs": [
    {
     "ename": "AttributeError",
     "evalue": "'tuple' object has no attribute 'append'",
     "output_type": "error",
     "traceback": [
      "\u001b[0;31m---------------------------------------------------------------------------\u001b[0m",
      "\u001b[0;31mAttributeError\u001b[0m                            Traceback (most recent call last)",
      "Cell \u001b[0;32mIn[7], line 2\u001b[0m\n\u001b[1;32m      1\u001b[0m my_tuple \u001b[38;5;241m=\u001b[39m (\u001b[38;5;241m1\u001b[39m, \u001b[38;5;241m2\u001b[39m, \u001b[38;5;241m3\u001b[39m)\n\u001b[0;32m----> 2\u001b[0m \u001b[43mmy_tuple\u001b[49m\u001b[38;5;241;43m.\u001b[39;49m\u001b[43mappend\u001b[49m(\u001b[38;5;241m4\u001b[39m)\n",
      "\u001b[0;31mAttributeError\u001b[0m: 'tuple' object has no attribute 'append'"
     ]
    }
   ],
   "source": [
    "# It will show error \"'tuple' object has no attribute 'append'\"\n",
    "my_tuple = (1, 2, 3)\n",
    "my_tuple.append(4)"
   ]
  },
  {
   "cell_type": "code",
   "execution_count": 8,
   "id": "e7064781-d709-452a-9437-cbe911f37f9d",
   "metadata": {},
   "outputs": [
    {
     "name": "stdout",
     "output_type": "stream",
     "text": [
      "[1, 2, 3, 4]\n"
     ]
    }
   ],
   "source": [
    "my_list = [1, 2, 3]\n",
    "\n",
    "new_list = my_list\n",
    "\n",
    "new_list.append(4)\n",
    "\n",
    "print(my_list)"
   ]
  },
  {
   "cell_type": "code",
   "execution_count": 9,
   "id": "17453d92-be86-4c4d-a8df-bb4d56b59746",
   "metadata": {},
   "outputs": [
    {
     "name": "stdout",
     "output_type": "stream",
     "text": [
      "2\n"
     ]
    }
   ],
   "source": [
    "a= 2\n",
    "b=a\n",
    "b=2+5\n",
    "print(a)\n"
   ]
  },
  {
   "cell_type": "code",
   "execution_count": null,
   "id": "10d1a4a2-10e7-4d64-9e40-dfaa7831fb85",
   "metadata": {},
   "outputs": [],
   "source": []
  }
 ],
 "metadata": {
  "kernelspec": {
   "display_name": "Python 3 (ipykernel)",
   "language": "python",
   "name": "python3"
  },
  "language_info": {
   "codemirror_mode": {
    "name": "ipython",
    "version": 3
   },
   "file_extension": ".py",
   "mimetype": "text/x-python",
   "name": "python",
   "nbconvert_exporter": "python",
   "pygments_lexer": "ipython3",
   "version": "3.10.8"
  }
 },
 "nbformat": 4,
 "nbformat_minor": 5
}
